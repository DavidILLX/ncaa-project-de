{
 "cells": [
  {
   "cell_type": "code",
   "execution_count": 2,
   "id": "bec04d68",
   "metadata": {},
   "outputs": [
    {
     "name": "stdout",
     "output_type": "stream",
     "text": [
      "Name: market, Type: STRING, Mode: NULLABLE\n",
      "Name: alias, Type: STRING, Mode: NULLABLE\n",
      "Name: name, Type: STRING, Mode: NULLABLE\n",
      "Name: id, Type: STRING, Mode: NULLABLE\n",
      "Name: code_ncaa, Type: INTEGER, Mode: NULLABLE\n",
      "Name: kaggle_team_id, Type: INTEGER, Mode: NULLABLE\n",
      "Name: school_ncaa, Type: STRING, Mode: NULLABLE\n",
      "Name: turner_name, Type: STRING, Mode: NULLABLE\n",
      "Name: league_name, Type: STRING, Mode: NULLABLE\n",
      "Name: league_alias, Type: STRING, Mode: NULLABLE\n",
      "Name: league_id, Type: STRING, Mode: NULLABLE\n",
      "Name: conf_name, Type: STRING, Mode: NULLABLE\n",
      "Name: conf_alias, Type: STRING, Mode: NULLABLE\n",
      "Name: conf_id, Type: STRING, Mode: NULLABLE\n",
      "Name: division_name, Type: STRING, Mode: NULLABLE\n",
      "Name: division_alias, Type: STRING, Mode: NULLABLE\n",
      "Name: division_id, Type: STRING, Mode: NULLABLE\n",
      "Name: venue_id, Type: STRING, Mode: NULLABLE\n",
      "Name: venue_city, Type: STRING, Mode: NULLABLE\n",
      "Name: venue_state, Type: STRING, Mode: NULLABLE\n",
      "Name: venue_address, Type: STRING, Mode: NULLABLE\n",
      "Name: venue_zip, Type: STRING, Mode: NULLABLE\n",
      "Name: venue_country, Type: STRING, Mode: NULLABLE\n",
      "Name: venue_name, Type: STRING, Mode: NULLABLE\n",
      "Name: venue_capacity, Type: INTEGER, Mode: NULLABLE\n",
      "Name: logo_large, Type: STRING, Mode: NULLABLE\n",
      "Name: logo_medium, Type: STRING, Mode: NULLABLE\n",
      "Name: logo_small, Type: STRING, Mode: NULLABLE\n"
     ]
    }
   ],
   "source": [
    "from google.cloud import bigquery\n",
    "\n",
    "def get_bigquery_schema(project_id, dataset_id, table_id):\n",
    "    \"\"\"Retrieves the schema of a BigQuery table.\"\"\"\n",
    "    client = bigquery.Client(project=project_id)\n",
    "    table_ref = client.dataset(dataset_id).table(table_id)\n",
    "    table = client.get_table(table_ref)\n",
    "    schema = table.schema\n",
    "    for field in schema:\n",
    "        print(f\"Name: {field.name}, Type: {field.field_type}, Mode: {field.mode}\")\n",
    "\n",
    "if __name__ == \"__main__\":\n",
    "    project_id = \"bigquery-public-data\"\n",
    "    dataset_id = \"ncaa_basketball\"\n",
    "    table_id = \"mbb_teams\"  # Replace with the table you need\n",
    "    get_bigquery_schema(project_id, dataset_id, table_id)"
   ]
  },
  {
   "cell_type": "code",
   "execution_count": null,
   "id": "3ed361f0",
   "metadata": {},
   "outputs": [],
   "source": []
  }
 ],
 "metadata": {
  "kernelspec": {
   "display_name": "Python 3",
   "language": "python",
   "name": "python3"
  },
  "language_info": {
   "codemirror_mode": {
    "name": "ipython",
    "version": 3
   },
   "file_extension": ".py",
   "mimetype": "text/x-python",
   "name": "python",
   "nbconvert_exporter": "python",
   "pygments_lexer": "ipython3",
   "version": "3.13.2"
  }
 },
 "nbformat": 4,
 "nbformat_minor": 5
}
