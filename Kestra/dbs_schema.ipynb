{
 "cells": [
  {
   "cell_type": "code",
   "execution_count": null,
   "id": "bec04d68",
   "metadata": {},
   "outputs": [],
   "source": [
    "from google.cloud import bigquery\n",
    "\n",
    "def get_bigquery_schema(project_id, dataset_id, table_id):\n",
    "    \"\"\"Retrieves the schema of a BigQuery table.\"\"\"\n",
    "    client = bigquery.Client(project=project_id)\n",
    "    table_ref = client.dataset(dataset_id).table(table_id)\n",
    "    table = client.get_table(table_ref)\n",
    "    schema = table.schema\n",
    "    for field in schema:\n",
    "        print(f\"Name: {field.name}, Type: {field.field_type}, Mode: {field.mode}\")\n",
    "\n",
    "if __name__ == \"__main__\":\n",
    "    project_id = \"bigquery-public-data\"\n",
    "    dataset_id = \"ncaa_basketball\"\n",
    "    table_id = \"mbb_teams\"  # Replace with the table you need\n",
    "    get_bigquery_schema(project_id, dataset_id, table_id)"
   ]
  }
 ],
 "metadata": {
  "kernelspec": {
   "display_name": "Python 3",
   "language": "python",
   "name": "python3"
  },
  "language_info": {
   "name": "python",
   "version": "3.13.2"
  }
 },
 "nbformat": 4,
 "nbformat_minor": 5
}
