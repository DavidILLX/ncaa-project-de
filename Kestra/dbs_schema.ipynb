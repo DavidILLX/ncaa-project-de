{
 "cells": [
  {
   "cell_type": "code",
   "execution_count": 5,
   "id": "bec04d68",
   "metadata": {},
   "outputs": [
    {
     "name": "stdout",
     "output_type": "stream",
     "text": [
      "season,INTEGER,NULLABLE\n",
      "round,INTEGER,NULLABLE\n",
      "days_from_epoch,INTEGER,NULLABLE\n",
      "game_date,DATE,NULLABLE\n",
      "day,STRING,NULLABLE\n",
      "win_seed,STRING,NULLABLE\n",
      "win_region,STRING,NULLABLE\n",
      "win_market,STRING,NULLABLE\n",
      "win_name,STRING,NULLABLE\n",
      "win_alias,STRING,NULLABLE\n",
      "win_team_id,STRING,NULLABLE\n",
      "win_school_ncaa,STRING,NULLABLE\n",
      "win_code_ncaa,INTEGER,NULLABLE\n",
      "win_kaggle_team_id,INTEGER,NULLABLE\n",
      "win_pts,INTEGER,NULLABLE\n",
      "lose_seed,STRING,NULLABLE\n",
      "lose_region,STRING,NULLABLE\n",
      "lose_market,STRING,NULLABLE\n",
      "lose_name,STRING,NULLABLE\n",
      "lose_alias,STRING,NULLABLE\n",
      "lose_team_id,STRING,NULLABLE\n",
      "lose_school_ncaa,STRING,NULLABLE\n",
      "lose_code_ncaa,INTEGER,NULLABLE\n",
      "lose_kaggle_team_id,INTEGER,NULLABLE\n",
      "lose_pts,INTEGER,NULLABLE\n",
      "num_ot,INTEGER,NULLABLE\n",
      "academic_year,INTEGER,NULLABLE\n"
     ]
    }
   ],
   "source": [
    "from google.cloud import bigquery\n",
    "\n",
    "def get_bigquery_schema(project_id, dataset_id, table_id):\n",
    "    \"\"\"Retrieves the schema of a BigQuery table.\"\"\"\n",
    "    client = bigquery.Client(project=project_id)\n",
    "    table_ref = client.dataset(dataset_id).table(table_id)\n",
    "    table = client.get_table(table_ref)\n",
    "    schema = table.schema\n",
    "    for field in schema:\n",
    "        print(f\"{field.name},{field.field_type},{field.mode}\")\n",
    "\n",
    "if __name__ == \"__main__\":\n",
    "    project_id = \"bigquery-public-data\"\n",
    "    dataset_id = \"ncaa_basketball\"\n",
    "    table_id = \"mbb_historical_tournament_games\"  # Replace with the table you need\n",
    "    get_bigquery_schema(project_id, dataset_id, table_id)"
   ]
  },
  {
   "cell_type": "code",
   "execution_count": null,
   "id": "3ed361f0",
   "metadata": {},
   "outputs": [],
   "source": []
  }
 ],
 "metadata": {
  "kernelspec": {
   "display_name": "Python 3",
   "language": "python",
   "name": "python3"
  },
  "language_info": {
   "codemirror_mode": {
    "name": "ipython",
    "version": 3
   },
   "file_extension": ".py",
   "mimetype": "text/x-python",
   "name": "python",
   "nbconvert_exporter": "python",
   "pygments_lexer": "ipython3",
   "version": "3.13.2"
  }
 },
 "nbformat": 4,
 "nbformat_minor": 5
}
