{
 "cells": [
  {
   "cell_type": "code",
   "execution_count": 4,
   "id": "fcffa863",
   "metadata": {},
   "outputs": [],
   "source": [
    "import json"
   ]
  },
  {
   "cell_type": "code",
   "execution_count": 6,
   "id": "f32095b8",
   "metadata": {},
   "outputs": [],
   "source": [
    "x = {\"md5\":\"b0vP64qtZZb3Fp1k6rRQTw==\",\n",
    "     \"uri\":\"gs://ncaa-bucket-dump/team_colors/team_colors_part_1.zip\",\n",
    "     \"etag\":\"CIvc7O7/z4wDEAE=\",\n",
    "     \"name\":\"team_colors/team_colors_part_1.zip\",\n",
    "     \"size\":13379,\n",
    "     \"bucket\":\"ncaa-bucket-dump\",\n",
    "     \"crc32c\":\"FbSSbg==\",\n",
    "     \"selfLink\":\"https://www.googleapis.com/storage/v1/b/ncaa-bucket-dump/o/team_colors%2Fteam_colors_part_1.zip\",\n",
    "     \"directory\": False,  # Opraveno zde\n",
    "     \"mediaLink\":\"https://storage.googleapis.com/download/storage/v1/b/ncaa-bucket-dump/o/team_colors%2Fteam_colors_part_1.zip?generation=1744375161499147&alt=media\",\n",
    "     \"createTime\":\"2025-04-11T12:39:21.503Z\",\n",
    "     \"updateTime\":\"2025-04-11T12:39:21.503Z\",\n",
    "     \"contentType\":\"application/octet-stream\",\n",
    "     \"generatedId\":\"ncaa-bucket-dump/team_colors/team_colors_part_1.zip/1744375161499147\",\n",
    "     \"metaGeneration\":1,\n",
    "     \"timeStorageClassUpdated\":\"2025-04-11T12:39:21.503Z\"}"
   ]
  },
  {
   "cell_type": "code",
   "execution_count": 8,
   "id": "1e46a919",
   "metadata": {},
   "outputs": [
    {
     "name": "stdout",
     "output_type": "stream",
     "text": [
      "gs://ncaa-bucket-dump/team_colors/team_colors_part_1.zip\n"
     ]
    }
   ],
   "source": [
    "uri = x[\"uri\"]\n",
    "print(uri)"
   ]
  },
  {
   "cell_type": "code",
   "execution_count": null,
   "id": "fa21d095",
   "metadata": {},
   "outputs": [],
   "source": []
  }
 ],
 "metadata": {
  "kernelspec": {
   "display_name": "Python 3",
   "language": "python",
   "name": "python3"
  },
  "language_info": {
   "codemirror_mode": {
    "name": "ipython",
    "version": 3
   },
   "file_extension": ".py",
   "mimetype": "text/x-python",
   "name": "python",
   "nbconvert_exporter": "python",
   "pygments_lexer": "ipython3",
   "version": "3.13.2"
  }
 },
 "nbformat": 4,
 "nbformat_minor": 5
}
