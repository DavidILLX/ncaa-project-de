{
 "cells": [
  {
   "cell_type": "code",
   "execution_count": 21,
   "metadata": {},
   "outputs": [],
   "source": [
    "from google.cloud import bigquery\n",
    "from google.oauth2 import service_account\n",
    "from google.cloud import storage\n",
    "import math\n",
    "import io"
   ]
  },
  {
   "cell_type": "code",
   "execution_count": 22,
   "metadata": {},
   "outputs": [],
   "source": [
    "#Get google credentials downloaded by terraform\n",
    "file_path = \"Terraform/gcp_credentials.json\"\n",
    "credentials = service_account.Credentials.from_service_account_file(file_path)"
   ]
  },
  {
   "cell_type": "code",
   "execution_count": 23,
   "metadata": {},
   "outputs": [],
   "source": [
    "#Add your project name here \n",
    "client = bigquery.Client(credentials=credentials, project=\"ncaa-project-455709\")\n",
    "storage_client = storage.Client()"
   ]
  },
  {
   "cell_type": "code",
   "execution_count": 24,
   "metadata": {},
   "outputs": [],
   "source": [
    "# Should be - bigquery-public-data, ncaa_basketball\n",
    "project_id = \"bigquery-public-data\"\n",
    "dataset_id = \"ncaa_basketball\""
   ]
  },
  {
   "cell_type": "code",
   "execution_count": 25,
   "metadata": {},
   "outputs": [],
   "source": [
    "dataset_ref = client.dataset(dataset_id, project=project_id)\n",
    "tables = list(client.list_tables(dataset_ref))"
   ]
  },
  {
   "cell_type": "code",
   "execution_count": 26,
   "metadata": {},
   "outputs": [],
   "source": [
    "# Should be - ncaa-bucket-dump\n",
    "bucket_name = \"ncaa-bucket-dump\"\n",
    "bucket = storage_client.get_bucket(bucket_name)"
   ]
  },
  {
   "cell_type": "code",
   "execution_count": 27,
   "metadata": {},
   "outputs": [
    {
     "data": {
      "text/plain": [
       "[<google.cloud.bigquery.table.TableListItem at 0x1b01b0320d0>,\n",
       " <google.cloud.bigquery.table.TableListItem at 0x1b01af7ae70>,\n",
       " <google.cloud.bigquery.table.TableListItem at 0x1b01b061350>,\n",
       " <google.cloud.bigquery.table.TableListItem at 0x1b01b060fd0>,\n",
       " <google.cloud.bigquery.table.TableListItem at 0x1b01af8fcb0>,\n",
       " <google.cloud.bigquery.table.TableListItem at 0x1b01b0648a0>,\n",
       " <google.cloud.bigquery.table.TableListItem at 0x1b01b04d490>,\n",
       " <google.cloud.bigquery.table.TableListItem at 0x1b01b04d4f0>,\n",
       " <google.cloud.bigquery.table.TableListItem at 0x1b076e7f520>,\n",
       " <google.cloud.bigquery.table.TableListItem at 0x1b01af18140>]"
      ]
     },
     "execution_count": 27,
     "metadata": {},
     "output_type": "execute_result"
    }
   ],
   "source": [
    "tables"
   ]
  },
  {
   "cell_type": "code",
   "execution_count": 34,
   "metadata": {},
   "outputs": [],
   "source": [
    "table_name = \"team_colors\"\n",
    "query_job = client.query(f\"\"\"\n",
    "                                  SELECT *\n",
    "                                  FROM `{project_id}.{dataset_id}.{table_name}`\n",
    "                                  \"\"\")\n",
    "df = query_job.to_dataframe()\n",
    "\n"
   ]
  },
  {
   "cell_type": "code",
   "execution_count": null,
   "metadata": {},
   "outputs": [
    {
     "data": {
      "text/html": [
       "<div>\n",
       "<style scoped>\n",
       "    .dataframe tbody tr th:only-of-type {\n",
       "        vertical-align: middle;\n",
       "    }\n",
       "\n",
       "    .dataframe tbody tr th {\n",
       "        vertical-align: top;\n",
       "    }\n",
       "\n",
       "    .dataframe thead th {\n",
       "        text-align: right;\n",
       "    }\n",
       "</style>\n",
       "<table border=\"1\" class=\"dataframe\">\n",
       "  <thead>\n",
       "    <tr style=\"text-align: right;\">\n",
       "      <th></th>\n",
       "      <th>market</th>\n",
       "      <th>id</th>\n",
       "      <th>code_ncaa</th>\n",
       "      <th>color</th>\n",
       "    </tr>\n",
       "  </thead>\n",
       "  <tbody>\n",
       "    <tr>\n",
       "      <th>0</th>\n",
       "      <td>Milwaukee</td>\n",
       "      <td>5d77800f-1ae6-4b66-8e97-b0dbb8bbc717</td>\n",
       "      <td>797</td>\n",
       "      <td>#000000</td>\n",
       "    </tr>\n",
       "    <tr>\n",
       "      <th>1</th>\n",
       "      <td>Colorado</td>\n",
       "      <td>9fccbf28-2858-4263-821c-fdefb3c7efa3</td>\n",
       "      <td>157</td>\n",
       "      <td>#000000</td>\n",
       "    </tr>\n",
       "    <tr>\n",
       "      <th>2</th>\n",
       "      <td>Northeastern</td>\n",
       "      <td>93df9b18-e9fc-42a7-bb45-a736c203b4dc</td>\n",
       "      <td>500</td>\n",
       "      <td>#000000</td>\n",
       "    </tr>\n",
       "    <tr>\n",
       "      <th>3</th>\n",
       "      <td>Georgia Southern</td>\n",
       "      <td>6b955b96-b736-475e-bffd-e4acf2054169</td>\n",
       "      <td>253</td>\n",
       "      <td>#000066</td>\n",
       "    </tr>\n",
       "    <tr>\n",
       "      <th>4</th>\n",
       "      <td>Richmond</td>\n",
       "      <td>9b66e1e0-aace-4671-9be2-54c8acf5ecfc</td>\n",
       "      <td>575</td>\n",
       "      <td>#000066</td>\n",
       "    </tr>\n",
       "  </tbody>\n",
       "</table>\n",
       "</div>"
      ],
      "text/plain": [
       "             market                                    id  code_ncaa    color\n",
       "0         Milwaukee  5d77800f-1ae6-4b66-8e97-b0dbb8bbc717        797  #000000\n",
       "1          Colorado  9fccbf28-2858-4263-821c-fdefb3c7efa3        157  #000000\n",
       "2      Northeastern  93df9b18-e9fc-42a7-bb45-a736c203b4dc        500  #000000\n",
       "3  Georgia Southern  6b955b96-b736-475e-bffd-e4acf2054169        253  #000066\n",
       "4          Richmond  9b66e1e0-aace-4671-9be2-54c8acf5ecfc        575  #000066"
      ]
     },
     "execution_count": 35,
     "metadata": {},
     "output_type": "execute_result"
    }
   ],
   "source": [
    "df.head()"
   ]
  },
  {
   "cell_type": "code",
   "execution_count": 36,
   "metadata": {},
   "outputs": [],
   "source": [
    "df.drop(columns=df.columns[0], axis=1, inplace=True)"
   ]
  },
  {
   "cell_type": "code",
   "execution_count": 37,
   "metadata": {},
   "outputs": [
    {
     "data": {
      "text/html": [
       "<div>\n",
       "<style scoped>\n",
       "    .dataframe tbody tr th:only-of-type {\n",
       "        vertical-align: middle;\n",
       "    }\n",
       "\n",
       "    .dataframe tbody tr th {\n",
       "        vertical-align: top;\n",
       "    }\n",
       "\n",
       "    .dataframe thead th {\n",
       "        text-align: right;\n",
       "    }\n",
       "</style>\n",
       "<table border=\"1\" class=\"dataframe\">\n",
       "  <thead>\n",
       "    <tr style=\"text-align: right;\">\n",
       "      <th></th>\n",
       "      <th>id</th>\n",
       "      <th>code_ncaa</th>\n",
       "      <th>color</th>\n",
       "    </tr>\n",
       "  </thead>\n",
       "  <tbody>\n",
       "    <tr>\n",
       "      <th>0</th>\n",
       "      <td>5d77800f-1ae6-4b66-8e97-b0dbb8bbc717</td>\n",
       "      <td>797</td>\n",
       "      <td>#000000</td>\n",
       "    </tr>\n",
       "    <tr>\n",
       "      <th>1</th>\n",
       "      <td>9fccbf28-2858-4263-821c-fdefb3c7efa3</td>\n",
       "      <td>157</td>\n",
       "      <td>#000000</td>\n",
       "    </tr>\n",
       "    <tr>\n",
       "      <th>2</th>\n",
       "      <td>93df9b18-e9fc-42a7-bb45-a736c203b4dc</td>\n",
       "      <td>500</td>\n",
       "      <td>#000000</td>\n",
       "    </tr>\n",
       "    <tr>\n",
       "      <th>3</th>\n",
       "      <td>6b955b96-b736-475e-bffd-e4acf2054169</td>\n",
       "      <td>253</td>\n",
       "      <td>#000066</td>\n",
       "    </tr>\n",
       "    <tr>\n",
       "      <th>4</th>\n",
       "      <td>9b66e1e0-aace-4671-9be2-54c8acf5ecfc</td>\n",
       "      <td>575</td>\n",
       "      <td>#000066</td>\n",
       "    </tr>\n",
       "  </tbody>\n",
       "</table>\n",
       "</div>"
      ],
      "text/plain": [
       "                                     id  code_ncaa    color\n",
       "0  5d77800f-1ae6-4b66-8e97-b0dbb8bbc717        797  #000000\n",
       "1  9fccbf28-2858-4263-821c-fdefb3c7efa3        157  #000000\n",
       "2  93df9b18-e9fc-42a7-bb45-a736c203b4dc        500  #000000\n",
       "3  6b955b96-b736-475e-bffd-e4acf2054169        253  #000066\n",
       "4  9b66e1e0-aace-4671-9be2-54c8acf5ecfc        575  #000066"
      ]
     },
     "execution_count": 37,
     "metadata": {},
     "output_type": "execute_result"
    }
   ],
   "source": [
    "df.head()"
   ]
  },
  {
   "cell_type": "code",
   "execution_count": null,
   "metadata": {},
   "outputs": [],
   "source": []
  }
 ],
 "metadata": {
  "kernelspec": {
   "display_name": "Python 3",
   "language": "python",
   "name": "python3"
  },
  "language_info": {
   "codemirror_mode": {
    "name": "ipython",
    "version": 3
   },
   "file_extension": ".py",
   "mimetype": "text/x-python",
   "name": "python",
   "nbconvert_exporter": "python",
   "pygments_lexer": "ipython3",
   "version": "3.13.2"
  }
 },
 "nbformat": 4,
 "nbformat_minor": 2
}
